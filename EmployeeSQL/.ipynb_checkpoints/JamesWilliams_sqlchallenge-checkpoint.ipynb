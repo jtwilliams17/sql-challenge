{
 "cells": [
  {
   "cell_type": "code",
   "execution_count": null,
   "metadata": {},
   "outputs": [],
   "source": [
    "# SQL Query #1\n",
    "select employees.emp_no, \n",
    "\temployees.last_name, \n",
    "\temployees.first_name, \n",
    "\temployees.sex,\n",
    "\tsalaries.salary\n",
    "\tfrom employees\n",
    "Inner Join salaries ON employees.emp_no = salaries.emp_no;"
   ]
  },
  {
   "cell_type": "code",
   "execution_count": null,
   "metadata": {},
   "outputs": [],
   "source": [
    "# SQL Query #2\n",
    "SELECT first_name, last_name, hire_date FROM employees\n",
    "WHERE hire_date >= '1986-01-01'\n",
    "ORDER BY hire_date;"
   ]
  },
  {
   "cell_type": "code",
   "execution_count": null,
   "metadata": {},
   "outputs": [],
   "source": [
    "# SQL Query #3\n",
    "select dman.dept_no, \n",
    "\tdept.dept_name,\n",
    "\te.emp_no,\n",
    "\te.last_name,\n",
    "\te.first_name\n",
    "\tfrom employees as e\n",
    "Inner Join dept_manager as dman ON e.emp_no = dman.emp_no\n",
    "Inner Join departments as dept on dman.dept_no = dept.dept_no;"
   ]
  },
  {
   "cell_type": "code",
   "execution_count": null,
   "metadata": {},
   "outputs": [],
   "source": [
    "#SQL Query #4\n",
    "select \n",
    "\te.emp_no,\n",
    "\te.last_name,\n",
    "\te.first_name,\n",
    "\tdept.dept_name\n",
    "\tfrom employees as e\n",
    "Inner Join dept_emp as demp ON e.emp_no = demp.emp_no\n",
    "Inner Join departments as dept on demp.dept_no = dept.dept_no;"
   ]
  },
  {
   "cell_type": "code",
   "execution_count": null,
   "metadata": {},
   "outputs": [],
   "source": [
    "#SQL Query #5\n",
    "SELECT first_name, last_name, sex FROM employees\n",
    "WHERE first_name = 'Hercules' AND last_name LIKE 'B%';"
   ]
  },
  {
   "cell_type": "code",
   "execution_count": null,
   "metadata": {},
   "outputs": [],
   "source": [
    "#SQL Query #6\n",
    "select \n",
    "\te.emp_no,\n",
    "\te.last_name,\n",
    "\te.first_name,\n",
    "\tdept.dept_name\n",
    "\tfrom employees as e\n",
    "Inner Join dept_emp as demp ON e.emp_no = demp.emp_no\n",
    "Inner Join departments as dept on demp.dept_no = dept.dept_no\n",
    "WHERE dept_name = 'Sales';"
   ]
  },
  {
   "cell_type": "code",
   "execution_count": null,
   "metadata": {},
   "outputs": [],
   "source": [
    "#SQL Query #7\n",
    "select \n",
    "\te.emp_no,\n",
    "\te.last_name,\n",
    "\te.first_name,\n",
    "\tdept.dept_name\n",
    "\tfrom employees as e\n",
    "Inner Join dept_emp as demp ON e.emp_no = demp.emp_no\n",
    "Inner Join departments as dept on demp.dept_no = dept.dept_no\n",
    "WHERE dept_name IN ('Sales', 'Development');"
   ]
  },
  {
   "cell_type": "code",
   "execution_count": null,
   "metadata": {},
   "outputs": [],
   "source": [
    "#SQL Query #8\n",
    "SELECT last_name, COUNT(*) FROM employees\n",
    "GROUP BY last_name\n",
    "ORDER BY count desc;"
   ]
  }
 ],
 "metadata": {
  "kernelspec": {
   "display_name": "Python 3",
   "language": "python",
   "name": "python3"
  },
  "language_info": {
   "codemirror_mode": {
    "name": "ipython",
    "version": 3
   },
   "file_extension": ".py",
   "mimetype": "text/x-python",
   "name": "python",
   "nbconvert_exporter": "python",
   "pygments_lexer": "ipython3",
   "version": "3.8.3"
  }
 },
 "nbformat": 4,
 "nbformat_minor": 4
}
